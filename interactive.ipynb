{
 "cells": [
  {
   "metadata": {},
   "cell_type": "code",
   "source": [
    "import os\n",
    "os.chdir(\"/opt/project\")\n",
    "\n",
    "import json\n",
    "import psutil\n",
    "import numpy as np\n",
    "from settings import TEST_DATA_PATH\n",
    "\n",
    "import keras\n",
    "keras.mixed_precision.set_global_policy(\"mixed_float16\")\n",
    "\n",
    "from figures import ModelFigureGenerator\n",
    "from datasets import ECGSequence, get_files\n",
    "from model import ModelSpesification, get_model"
   ],
   "id": "c0533abe5905b4b2",
   "outputs": [],
   "execution_count": null
  },
  {
   "metadata": {},
   "cell_type": "code",
   "source": [
    "model_id = 6\n",
    "model_spec = ModelSpesification(model_id, tags=(\"best\",))"
   ],
   "id": "6f3badea70898482",
   "outputs": [],
   "execution_count": null
  },
  {
   "metadata": {},
   "cell_type": "code",
   "source": [
    "# Model settings\n",
    "lr = 1e-3\n",
    "batch_size = 64\n",
    "val_split = 0.02\n",
    "shuffle_on_epoch_end = True\n",
    "worker_num = psutil.cpu_count(logical=True) - 2\n",
    "\n",
    "opt = keras.optimizers.Adam(lr)\n",
    "loss = keras.losses.BinaryCrossentropy()\n",
    "\n",
    "callbacks = [\n",
    "    # Learning Optimizers\n",
    "    keras.callbacks.EarlyStopping(patience=9, min_delta=1e-5),\n",
    "    keras.callbacks.ReduceLROnPlateau(patience=7, min_lr=lr * 1e-2),\n",
    "    # Logs\n",
    "    keras.callbacks.TensorBoard(log_dir=model_spec.log_dir, write_graph=False),\n",
    "    keras.callbacks.CSVLogger(model_spec.log_dir / \"training.log\", append=False),\n",
    "    # Checkpoints\n",
    "    keras.callbacks.ModelCheckpoint(\n",
    "        model_spec[\"best\"].model_dir / \"model.keras\", save_best_only=True\n",
    "    ),\n",
    "]\n",
    "\n",
    "# Channels - V3, V4, V5\n",
    "channels = [8, 9, 10]\n",
    "train_seq, valid_seq = ECGSequence.get_train_and_val(\n",
    "    get_files(\"input\"), get_files(\"label\"), \"tracings\",\n",
    "    batch_size, val_split, drop=1, channels=channels,\n",
    "    shuffle=shuffle_on_epoch_end, workers=worker_num, use_multiprocessing=True\n",
    ")\n",
    "\n",
    "# If you are continuing an interrupted section, uncomment the line below:\n",
    "# model = keras.models.load_model(model_spec.model_dir / \"model.keras\", compile=False)\n",
    "model = get_model(n_classes=train_seq.n_classes,\n",
    "                  n_channels=len(channels), batch_size=batch_size)\n",
    "model.compile(loss=loss, optimizer=opt)\n",
    "\n",
    "with open(model_spec.model_dir / \"struct.json\", \"w\") as file:\n",
    "    json.dump(keras.saving.serialize_keras_object(model), file, indent=4)"
   ],
   "id": "f923976342d64dcc",
   "outputs": [],
   "execution_count": null
  },
  {
   "metadata": {},
   "cell_type": "code",
   "source": [
    "# Train neural network\n",
    "history = model.fit(train_seq,\n",
    "                    epochs=70,\n",
    "                    initial_epoch=0,\n",
    "                    callbacks=callbacks,\n",
    "                    validation_data=valid_seq,\n",
    "                    verbose=1)\n",
    "\n",
    "# Save final result\n",
    "model.save(model_spec.model_dir / \"model.keras\")"
   ],
   "id": "2c6c200cb4d7bd0",
   "outputs": [],
   "execution_count": null
  },
  {
   "metadata": {},
   "cell_type": "code",
   "source": [
    "# Evaluate the model on the test set\n",
    "seq = ECGSequence([TEST_DATA_PATH / \"ecg_tracings.hdf5\"], None,\n",
    "                  \"tracings\", batch_size=1, channels=channels)\n",
    "y_score = model_spec.model.predict(seq, verbose=1)\n",
    "\n",
    "np.save(model_spec.model_dir / \"prediction.npy\", y_score)"
   ],
   "id": "ae14a1cda51393c2",
   "outputs": [],
   "execution_count": null
  },
  {
   "metadata": {},
   "cell_type": "code",
   "source": [
    "# Generate figures and tables\n",
    "stats = ModelFigureGenerator(model_spec)\n",
    "\n",
    "stats.generate_table_two()\n",
    "stats.generate_supplementary_table_one()\n",
    "stats.generate_supplementary_figure_one()"
   ],
   "id": "ccbbc4d1a9038915",
   "outputs": [],
   "execution_count": null
  },
  {
   "metadata": {},
   "cell_type": "code",
   "source": [
    "# Inspect training logs\n",
    "%load_ext tensorboard\n",
    "%tensorboard --logdir {model_spec.log_dir} --bind_all"
   ],
   "id": "469957a0afee0e37",
   "outputs": [],
   "execution_count": null
  }
 ],
 "metadata": {
  "kernelspec": {
   "display_name": "Python 3",
   "language": "python",
   "name": "python3"
  },
  "language_info": {
   "codemirror_mode": {
    "name": "ipython",
    "version": 2
   },
   "file_extension": ".py",
   "mimetype": "text/x-python",
   "name": "python",
   "nbconvert_exporter": "python",
   "pygments_lexer": "ipython2",
   "version": "2.7.6"
  }
 },
 "nbformat": 4,
 "nbformat_minor": 5
}
