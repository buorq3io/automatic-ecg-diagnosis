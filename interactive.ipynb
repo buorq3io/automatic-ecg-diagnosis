{
 "cells": [
  {
   "metadata": {
    "ExecuteTime": {
     "end_time": "2024-11-24T13:07:15.745993Z",
     "start_time": "2024-11-24T13:07:14.532873Z"
    }
   },
   "cell_type": "code",
   "source": [
    "import os\n",
    "os.chdir(\"/opt/project\")\n",
    "os.environ['TF_CPP_MIN_LOG_LEVEL'] = \"3\"\n",
    "\n",
    "import h5py\n",
    "import psutil\n",
    "import numpy as np\n",
    "import pandas as pd\n",
    "from contextlib import suppress\n",
    "from settings import (LOGS_PATH, MODELS_PATH, PREDICTIONS_PATH,\n",
    "                      LABEL_DATA_PATH, INPUT_DATA_PATH, TEST_DATA_PATH)\n",
    "\n",
    "import keras\n",
    "keras.mixed_precision.set_global_policy(\"mixed_float16\")\n",
    "\n",
    "from model import get_model\n",
    "from datasets import ECGSequence\n",
    "from statistics import ECGStatistics"
   ],
   "id": "dad4f1dcc567e03a",
   "outputs": [],
   "execution_count": 1
  },
  {
   "metadata": {},
   "cell_type": "code",
   "source": [
    "def align_entries(indices: np.ndarray, data: np.ndarray, num_classes=6):\n",
    "    ydict = {}\n",
    "    for item in data:\n",
    "        ydict[item[0]] = item\n",
    "\n",
    "    result = np.empty(shape=(len(indices), num_classes), dtype=object)\n",
    "    for index, value in enumerate(indices):\n",
    "        with suppress(KeyError):\n",
    "            result[index] = ydict[str(value)][4: 4 + num_classes] == \"True\"\n",
    "\n",
    "    return result"
   ],
   "id": "9e2909f709d4734d",
   "outputs": [],
   "execution_count": null
  },
  {
   "metadata": {},
   "cell_type": "code",
   "source": [
    "def process_and_export_file_data(input_file: str, output_file: str):\n",
    "    y = pd.read_csv(LABEL_DATA_PATH.parent / \"exams.csv\", dtype=object).values\n",
    "    with h5py.File(INPUT_DATA_PATH / f\"{input_file}\", \"r+\") as file:\n",
    "        x, ids = file[\"tracings\"], file[\"exam_id\"]\n",
    "        y_curr = align_entries(ids, y)\n",
    "\n",
    "        # Log info\n",
    "        print(f\" FILE: {input_file} -> {output_file} \".center(60, \"*\"))\n",
    "        print(f\"X SHAPE: {x.shape}\".center(60, \" \"))\n",
    "        print(f\"Y SHAPE: {y_curr.shape}\".center(60, \" \"))\n",
    "        print(f\"I SHAPE: {ids.shape}\\n\".center(60, \" \"))\n",
    "\n",
    "        # Save labels\n",
    "        pd.DataFrame(y_curr).astype(int).to_csv(\n",
    "            LABEL_DATA_PATH / output_file,\n",
    "            sep=\",\", encoding=\"utf-8\", index=False, header=True\n",
    "        )"
   ],
   "id": "fb031cf915db61d6",
   "outputs": [],
   "execution_count": null
  },
  {
   "metadata": {},
   "cell_type": "code",
   "source": [
    "for i in range(len(inp := os.listdir(INPUT_DATA_PATH))):\n",
    "    if not f\"exams_part{i}.hdf5\" in inp: break\n",
    "    process_and_export_file_data(f\"exams_part{i}.hdf5\", f\"exams_part{i}.csv\")"
   ],
   "id": "b8f419cebccb690d",
   "outputs": [],
   "execution_count": null
  },
  {
   "metadata": {},
   "cell_type": "code",
   "source": [
    "# Model settings\n",
    "val_split = 0.02\n",
    "dataset_name = \"tracings\"\n",
    "model_id = len(os.listdir(\"models\")) - 1\n",
    "worker_num = psutil.cpu_count(logical=True) - 2\n",
    "\n",
    "# Optimization settings\n",
    "lr = 0.001\n",
    "batch_size = 64\n",
    "opt = keras.optimizers.Adam(lr)\n",
    "loss = keras.losses.BinaryCrossentropy()\n",
    "\n",
    "callbacks = [\n",
    "    # Learning Optimizers\n",
    "    keras.callbacks.EarlyStopping(patience=9, min_delta=0.00001),\n",
    "    keras.callbacks.ReduceLROnPlateau(monitor=\"val_loss\", factor=0.1,\n",
    "                                      patience=7, min_lr=lr / 100),\n",
    "    # Logs\n",
    "    keras.callbacks.TensorBoard(log_dir=LOGS_PATH, write_graph=False),\n",
    "    keras.callbacks.CSVLogger(LOGS_PATH / \"training.log\", append=False),\n",
    "    # Checkpoints\n",
    "    keras.callbacks.ModelCheckpoint(MODELS_PATH / f\"backup/model_last_{model_id}.keras\"),\n",
    "    keras.callbacks.ModelCheckpoint(MODELS_PATH / f\"backup/model_best_{model_id}.keras\"),\n",
    "]\n",
    "\n",
    "train_seq, valid_seq = ECGSequence.get_train_and_val(\n",
    "    [INPUT_DATA_PATH / file for file in os.listdir(INPUT_DATA_PATH)],\n",
    "    [LABEL_DATA_PATH / file for file in os.listdir(LABEL_DATA_PATH)],\n",
    "    dataset_name, batch_size, val_split,\n",
    "    workers=worker_num, use_multiprocessing=True\n",
    ")\n",
    "\n",
    "# If you are continuing an interrupted section, uncomment line bellow:\n",
    "# model = keras.models.load_model(PATH_TO_MODEL, compile=False)\n",
    "model = get_model(train_seq.n_classes)\n",
    "model.compile(loss=loss, optimizer=opt)"
   ],
   "id": "f129812630aea808",
   "outputs": [],
   "execution_count": null
  },
  {
   "metadata": {},
   "cell_type": "code",
   "source": [
    "# Train neural network\n",
    "# If you are continuing an interrupted section change initial epoch\n",
    "history = model.fit(train_seq,\n",
    "                    epochs=70,\n",
    "                    initial_epoch=0,\n",
    "                    callbacks=callbacks,\n",
    "                    validation_data=valid_seq,\n",
    "                    verbose=1)\n",
    "# Save final result\n",
    "model.save(MODELS_PATH / f\"model_{model_id}.keras\")"
   ],
   "id": "2c6c200cb4d7bd0",
   "outputs": [],
   "execution_count": null
  },
  {
   "metadata": {},
   "cell_type": "code",
   "source": [
    "# Predictions of the model on the test set\n",
    "seq = ECGSequence([TEST_DATA_PATH / \"ecg_tracings.hdf5\"], None, dataset_name, batch_size=1)\n",
    "y_score = model.predict(seq, verbose=1)\n",
    "\n",
    "np.save(PREDICTIONS_PATH / f\"predictions_{model_id}.npy\", y_score)"
   ],
   "id": "ae14a1cda51393c2",
   "outputs": [],
   "execution_count": null
  },
  {
   "metadata": {},
   "cell_type": "code",
   "outputs": [],
   "execution_count": null,
   "source": [
    "# Generate figures\n",
    "stats = ECGStatistics(model_id)\n",
    "\n",
    "stats.generate_table_two()\n",
    "stats.generate_supplementary_figure_one()"
   ],
   "id": "af50dbf1bd6f0641"
  }
 ],
 "metadata": {
  "kernelspec": {
   "display_name": "Python 3",
   "language": "python",
   "name": "python3"
  },
  "language_info": {
   "codemirror_mode": {
    "name": "ipython",
    "version": 2
   },
   "file_extension": ".py",
   "mimetype": "text/x-python",
   "name": "python",
   "nbconvert_exporter": "python",
   "pygments_lexer": "ipython2",
   "version": "2.7.6"
  }
 },
 "nbformat": 4,
 "nbformat_minor": 5
}
