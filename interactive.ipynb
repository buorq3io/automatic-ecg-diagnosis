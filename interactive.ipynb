{
 "cells": [
  {
   "metadata": {},
   "cell_type": "code",
   "source": [
    "import os\n",
    "import psutil\n",
    "os.chdir(\"/opt/project\")\n",
    "\n",
    "import keras\n",
    "keras.mixed_precision.set_global_policy(\"mixed_float16\")\n",
    "\n",
    "from model import get_model\n",
    "from datasets import ECGSequence\n",
    "\n",
    "import h5py\n",
    "import numpy as np\n",
    "import pandas as pd\n",
    "from pathlib import Path\n",
    "from contextlib import suppress"
   ],
   "id": "dad4f1dcc567e03a",
   "outputs": [],
   "execution_count": null
  },
  {
   "metadata": {},
   "cell_type": "code",
   "source": [
    "TEST_DATA_PATH = Path(\"./data/test\")\n",
    "PREDICTIONS_PATH = Path(\"./predictions\")\n",
    "INPUT_DATA_PATH = Path(\"./data/train/inputs\")\n",
    "LABEL_DATA_PATH = Path(\"./data/train/labels\")\n",
    "\n",
    "input_files = os.listdir(INPUT_DATA_PATH)\n",
    "label_files = os.listdir(LABEL_DATA_PATH)"
   ],
   "id": "b38c6893e256b7a",
   "outputs": [],
   "execution_count": null
  },
  {
   "metadata": {},
   "cell_type": "code",
   "source": [
    "def align_entries(indices: np.ndarray, data: np.ndarray, num_classes=6):\n",
    "    ydict = {}\n",
    "    for item in data:\n",
    "        ydict[item[0]] = item\n",
    "\n",
    "    result = np.empty(shape=(len(indices), num_classes), dtype=object)\n",
    "    for index, value in enumerate(indices):\n",
    "        with suppress(KeyError):\n",
    "            result[index] = ydict[str(value)][4: 4 + num_classes] == \"True\"\n",
    "\n",
    "    return result"
   ],
   "id": "9e2909f709d4734d",
   "outputs": [],
   "execution_count": null
  },
  {
   "metadata": {},
   "cell_type": "code",
   "source": [
    "def process_and_export_file_data(input_file: str, output_file: str):\n",
    "    y = pd.read_csv(LABEL_DATA_PATH.parent / \"exams.csv\", dtype=object).values\n",
    "    with h5py.File(INPUT_DATA_PATH / f\"{input_file}\", \"r+\") as file:\n",
    "        x, ids = file[\"tracings\"], file[\"exam_id\"]\n",
    "        y_curr = align_entries(ids, y)\n",
    "\n",
    "        # Log info\n",
    "        print(f\" FILE: {input_file} -> {output_file} \".center(60, \"*\"))\n",
    "        print(f\"X SHAPE: {x.shape}\".center(60, \" \"))\n",
    "        print(f\"Y SHAPE: {y_curr.shape}\".center(60, \" \"))\n",
    "        print(f\"I SHAPE: {ids.shape}\\n\".center(60, \" \"))\n",
    "\n",
    "        # Save labels\n",
    "        pd.DataFrame(y_curr).astype(int).to_csv(\n",
    "            LABEL_DATA_PATH / output_file,\n",
    "            sep=\",\", encoding=\"utf-8\", index=False, header=True\n",
    "        )"
   ],
   "id": "fb031cf915db61d6",
   "outputs": [],
   "execution_count": null
  },
  {
   "metadata": {},
   "cell_type": "code",
   "source": [
    "for i in range(len(input_files)):\n",
    "    if not f\"exams_part{i}.hdf5\" in input_files: break\n",
    "    process_and_export_file_data(f\"exams_part{i}.hdf5\", f\"exams_part{i}.csv\")"
   ],
   "id": "b8f419cebccb690d",
   "outputs": [],
   "execution_count": null
  },
  {
   "metadata": {},
   "cell_type": "code",
   "source": [
    "# Model settings\n",
    "val_split = 0.02\n",
    "dataset_name = \"tracings\"\n",
    "model_id = len(os.listdir(\"models\")) - 1\n",
    "worker_num = psutil.cpu_count(logical=True) - 2\n",
    "\n",
    "# Optimization settings\n",
    "lr = 0.001\n",
    "batch_size = 64\n",
    "opt = keras.optimizers.Adam(lr)\n",
    "loss = keras.losses.BinaryCrossentropy()\n",
    "\n",
    "callbacks = [\n",
    "    # Learning Optimizers\n",
    "    keras.callbacks.EarlyStopping(patience=9, min_delta=0.00001),\n",
    "    keras.callbacks.ReduceLROnPlateau(monitor=\"val_loss\", factor=0.1,\n",
    "                                      patience=7, min_lr=lr / 100),\n",
    "    # Logs\n",
    "    keras.callbacks.CSVLogger(\"./logs/training.log\", append=False),\n",
    "    keras.callbacks.TensorBoard(log_dir=\"./logs\", write_graph=False),\n",
    "    # Checkpoints\n",
    "    keras.callbacks.ModelCheckpoint(f\"./models/backup/model{model_id}_last.keras\"),\n",
    "    keras.callbacks.ModelCheckpoint(f\"./models/backup/model{model_id}_best.keras\"),\n",
    "]\n",
    "\n",
    "train_seq, valid_seq = ECGSequence.get_train_and_val(\n",
    "    [INPUT_DATA_PATH / file for file in input_files],\n",
    "    [LABEL_DATA_PATH / file for file in label_files],\n",
    "    dataset_name, batch_size, val_split,\n",
    "    workers=worker_num, use_multiprocessing=True\n",
    ")\n",
    "\n",
    "# If you are continuing an interrupted section, uncomment line bellow:\n",
    "# model = keras.models.load_model(PATH_TO_PREV_MODEL, compile=False)\n",
    "model = get_model(train_seq.n_classes)\n",
    "model.compile(loss=loss, optimizer=opt)"
   ],
   "id": "f129812630aea808",
   "outputs": [],
   "execution_count": null
  },
  {
   "metadata": {},
   "cell_type": "code",
   "source": [
    "# Train neural network\n",
    "# If you are continuing an interrupted section change initial epoch\n",
    "history = model.fit(train_seq,\n",
    "                    epochs=70,\n",
    "                    initial_epoch=0,\n",
    "                    callbacks=callbacks,\n",
    "                    validation_data=valid_seq,\n",
    "                    verbose=1)\n",
    "# Save final result\n",
    "model.save(f\"./models/model{model_id}.keras\")"
   ],
   "id": "2c6c200cb4d7bd0",
   "outputs": [],
   "execution_count": null
  },
  {
   "metadata": {},
   "cell_type": "code",
   "source": [
    "# Predictions of the model on the test set\n",
    "seq = ECGSequence([TEST_DATA_PATH / \"ecg_tracings.hdf5\"], None, dataset_name, batch_size=8)\n",
    "y_score = model.predict(seq, verbose=1)\n",
    "\n",
    "np.save(PREDICTIONS_PATH / f\"predict{model_id}.npy\", y_score)"
   ],
   "id": "ae14a1cda51393c2",
   "outputs": [],
   "execution_count": null
  }
 ],
 "metadata": {
  "kernelspec": {
   "display_name": "Python 3",
   "language": "python",
   "name": "python3"
  },
  "language_info": {
   "codemirror_mode": {
    "name": "ipython",
    "version": 2
   },
   "file_extension": ".py",
   "mimetype": "text/x-python",
   "name": "python",
   "nbconvert_exporter": "python",
   "pygments_lexer": "ipython2",
   "version": "2.7.6"
  }
 },
 "nbformat": 4,
 "nbformat_minor": 5
}
