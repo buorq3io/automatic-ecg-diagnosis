{
 "cells": [
  {
   "metadata": {
    "ExecuteTime": {
     "end_time": "2025-01-06T14:11:16.806371Z",
     "start_time": "2025-01-06T14:11:13.536871Z"
    }
   },
   "cell_type": "code",
   "source": [
    "import os\n",
    "os.chdir(\"/opt/project\")\n",
    "\n",
    "import json\n",
    "import psutil\n",
    "import numpy as np\n",
    "\n",
    "import keras\n",
    "keras.mixed_precision.set_global_policy(\"mixed_float16\")\n",
    "\n",
    "from figures import ModelFigureGenerator\n",
    "from datasets import CardiogramSequence, get_files\n",
    "from model import ModelManager, get_model\n",
    "from helpers import ResourcePath, CardiogramLead"
   ],
   "id": "d641bed2c7f0f710",
   "outputs": [],
   "execution_count": 1
  },
  {
   "metadata": {},
   "cell_type": "code",
   "source": [
    "model_id = 4\n",
    "manager = ModelManager(model_id, tags=(\"default\", \"best\"))"
   ],
   "id": "77bc620a213a45bd",
   "outputs": [],
   "execution_count": null
  },
  {
   "metadata": {},
   "cell_type": "code",
   "source": [
    "# Model settings\n",
    "lr = 1e-3\n",
    "batch_size = 64\n",
    "val_split = 0.02\n",
    "shuffle_on_epoch_end = True\n",
    "worker_num = psutil.cpu_count(logical=True) - 2\n",
    "\n",
    "opt = keras.optimizers.Adam(lr)\n",
    "loss = keras.losses.BinaryCrossentropy()\n",
    "\n",
    "callbacks = [\n",
    "    # Learning Optimizers\n",
    "    keras.callbacks.EarlyStopping(patience=9, min_delta=1e-5),\n",
    "    keras.callbacks.ReduceLROnPlateau(patience=7, min_lr=lr * 1e-2),\n",
    "    # Logs\n",
    "    keras.callbacks.TensorBoard(log_dir=manager[\"default\"].log_dir, write_graph=False),\n",
    "    keras.callbacks.CSVLogger(manager[\"default\"].log_dir / \"training.log\", append=False),\n",
    "    # Checkpoints\n",
    "    keras.callbacks.ModelCheckpoint(manager[\"best\"].model_path, save_best_only=True),\n",
    "]\n",
    "\n",
    "channels = [CardiogramLead.V3, CardiogramLead.V4, CardiogramLead.V5]\n",
    "train_seq, valid_seq = CardiogramSequence.get_train_and_val(\n",
    "    get_files(\"input\"), get_files(\"label\"), batch_size=batch_size,\n",
    "    val_split=val_split, leads=channels, shuffle=shuffle_on_epoch_end,\n",
    "    workers=worker_num, use_multiprocessing=True, max_queue_size=20\n",
    ")\n",
    "\n",
    "# If you are continuing an interrupted section, uncomment the line below:\n",
    "# model = keras.models.load_model(model_spec.model_dir / \"model_default.keras\", compile=False)\n",
    "model = get_model(n_classes=train_seq.n_classes,\n",
    "                  n_channels=len(channels), batch_size=batch_size)\n",
    "model.compile(loss=loss, optimizer=opt)\n",
    "\n",
    "with open(manager[\"default\"].model_dir / \"struct.json\", \"w\") as file:\n",
    "    json.dump(keras.saving.serialize_keras_object(model), file, indent=4)"
   ],
   "id": "f923976342d64dcc",
   "outputs": [],
   "execution_count": null
  },
  {
   "metadata": {},
   "cell_type": "code",
   "source": [
    "# Train neural network\n",
    "history = model.fit(train_seq,\n",
    "                    epochs=70,\n",
    "                    initial_epoch=0,\n",
    "                    callbacks=callbacks,\n",
    "                    validation_data=valid_seq,\n",
    "                    verbose=1)\n",
    "\n",
    "# Save final result\n",
    "model.save(manager[\"default\"].model_dir / \"model_default.keras\")"
   ],
   "id": "3220c09e9a691ffa",
   "outputs": [],
   "execution_count": null
  },
  {
   "metadata": {},
   "cell_type": "code",
   "outputs": [],
   "execution_count": null,
   "source": [
    "# Evaluate the model on the test set\n",
    "seq = CardiogramSequence([ResourcePath.TEST_INPUTS / \"ecg_tracings.hdf5\"], None,\n",
    "                  \"tracings\", batch_size=1, drop_last=False, leads=channels)\n",
    "\n",
    "for loader in manager.loaders.values():\n",
    "    y_score = loader.model.predict(seq, verbose=1)\n",
    "    np.save(loader.pred_path, y_score)\n",
    "\n",
    "    stats = ModelFigureGenerator(loader)\n",
    "    stats.generate_table_two()\n",
    "    stats.generate_supplementary_table_one()\n",
    "    stats.generate_supplementary_figure_one()\n"
   ],
   "id": "6640ef377c353cc"
  },
  {
   "metadata": {},
   "cell_type": "code",
   "outputs": [],
   "execution_count": null,
   "source": [
    "# Inspect training logs\n",
    "%load_ext tensorboard\n",
    "%tensorboard --logdir {model_spec.log_dir} --bind_all"
   ],
   "id": "8fc404c3f05f943a"
  }
 ],
 "metadata": {
  "kernelspec": {
   "display_name": "Python 3",
   "language": "python",
   "name": "python3"
  },
  "language_info": {
   "codemirror_mode": {
    "name": "ipython",
    "version": 2
   },
   "file_extension": ".py",
   "mimetype": "text/x-python",
   "name": "python",
   "nbconvert_exporter": "python",
   "pygments_lexer": "ipython2",
   "version": "2.7.6"
  }
 },
 "nbformat": 4,
 "nbformat_minor": 5
}
