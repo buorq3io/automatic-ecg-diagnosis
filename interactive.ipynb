{
 "cells": [
  {
   "metadata": {},
   "cell_type": "code",
   "source": [
    "import os\n",
    "os.chdir(\"/opt/project\")\n",
    "\n",
    "import psutil\n",
    "import numpy as np\n",
    "from settings import (LOGS_PATH, MODELS_PATH, BACKUPS_PATH,\n",
    "                      PREDICTIONS_PATH, TEST_DATA_PATH)\n",
    "\n",
    "import keras\n",
    "keras.mixed_precision.set_global_policy(\"mixed_float16\")\n",
    "\n",
    "from model import get_model\n",
    "from performance import ModelPerformance\n",
    "from datasets import ECGSequence, generate_label_files, get_files"
   ],
   "id": "c0533abe5905b4b2",
   "outputs": [],
   "execution_count": null
  },
  {
   "metadata": {},
   "cell_type": "code",
   "source": "generate_label_files(num_classes=6, drop=1, verbose=True)",
   "id": "45f1bf0ddd40e456",
   "outputs": [],
   "execution_count": null
  },
  {
   "metadata": {},
   "cell_type": "code",
   "source": [
    "# Model settings\n",
    "val_split = 0.05\n",
    "dataset_name = \"tracings\"\n",
    "model_id = len(tuple(MODELS_PATH.iterdir())) - 1\n",
    "worker_num = psutil.cpu_count(logical=True) - 2\n",
    "\n",
    "# Optimization settings\n",
    "lr = 0.001\n",
    "batch_size = 64\n",
    "opt = keras.optimizers.Adam(lr)\n",
    "loss = keras.losses.BinaryCrossentropy()\n",
    "\n",
    "callbacks = [\n",
    "    # Learning Optimizers\n",
    "    keras.callbacks.EarlyStopping(patience=9, min_delta=0.00001),\n",
    "    keras.callbacks.ReduceLROnPlateau(monitor=\"val_loss\", factor=0.1,\n",
    "                                      patience=7, min_lr=lr / 100),\n",
    "    # Logs\n",
    "    keras.callbacks.TensorBoard(log_dir=LOGS_PATH, write_graph=False),\n",
    "    keras.callbacks.CSVLogger(LOGS_PATH / \"training.log\", append=False),\n",
    "    # Checkpoints\n",
    "    keras.callbacks.ModelCheckpoint(BACKUPS_PATH / f\"model_last_{model_id}.keras\"),\n",
    "    keras.callbacks.ModelCheckpoint(BACKUPS_PATH / f\"model_best_{model_id}.keras\"),\n",
    "]\n",
    "\n",
    "train_seq, valid_seq = ECGSequence.get_train_and_val(\n",
    "    get_files(\"input\"), get_files(\"label\"), dataset_name,\n",
    "    batch_size, val_split, drop=1, shuffle=True,\n",
    "    workers=worker_num, use_multiprocessing=True\n",
    ")\n",
    "\n",
    "# If you are continuing an interrupted section, uncomment line bellow:\n",
    "# model = keras.models.load_model(MODELS_PATH / \"model_{i}.keras\", compile=False)\n",
    "model = get_model(train_seq.n_classes)\n",
    "model.compile(loss=loss, optimizer=opt)"
   ],
   "id": "f923976342d64dcc",
   "outputs": [],
   "execution_count": null
  },
  {
   "metadata": {},
   "cell_type": "code",
   "source": [
    "# Train neural network\n",
    "# If you are continuing an interrupted section change initial epoch\n",
    "history = model.fit(train_seq,\n",
    "                    epochs=70,\n",
    "                    initial_epoch=0,\n",
    "                    callbacks=callbacks,\n",
    "                    validation_data=valid_seq,\n",
    "                    verbose=1)\n",
    "# Save final result\n",
    "model.save(MODELS_PATH / f\"model_{model_id}.keras\")"
   ],
   "id": "2c6c200cb4d7bd0",
   "outputs": [],
   "execution_count": null
  },
  {
   "metadata": {},
   "cell_type": "code",
   "source": [
    "# Predictions of the model on the test set\n",
    "seq = ECGSequence([TEST_DATA_PATH / \"ecg_tracings.hdf5\"], None, dataset_name, batch_size=1)\n",
    "y_score = model.predict(seq, verbose=1)\n",
    "\n",
    "np.save(PREDICTIONS_PATH / f\"prediction_{model_id}.npy\", y_score)"
   ],
   "id": "ae14a1cda51393c2",
   "outputs": [],
   "execution_count": null
  },
  {
   "metadata": {},
   "cell_type": "code",
   "source": [
    "# Generate figures\n",
    "stats = ModelPerformance(model_id)\n",
    "\n",
    "stats.generate_table_two()\n",
    "stats.generate_supplementary_figure_one()"
   ],
   "id": "ccbbc4d1a9038915",
   "outputs": [],
   "execution_count": null
  }
 ],
 "metadata": {
  "kernelspec": {
   "display_name": "Python 3",
   "language": "python",
   "name": "python3"
  },
  "language_info": {
   "codemirror_mode": {
    "name": "ipython",
    "version": 2
   },
   "file_extension": ".py",
   "mimetype": "text/x-python",
   "name": "python",
   "nbconvert_exporter": "python",
   "pygments_lexer": "ipython2",
   "version": "2.7.6"
  }
 },
 "nbformat": 4,
 "nbformat_minor": 5
}
